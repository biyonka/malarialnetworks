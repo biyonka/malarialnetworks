{
 "cells": [
  {
   "cell_type": "code",
   "execution_count": 1,
   "metadata": {},
   "outputs": [
    {
     "data": {
      "text/html": [
       "<script>requirejs.config({paths: { 'plotly': ['https://cdn.plot.ly/plotly-latest.min']},});if(!window.Plotly) {{require(['plotly'],function(plotly) {window.Plotly=plotly;});}}</script>"
      ],
      "text/vnd.plotly.v1+html": [
       "<script>requirejs.config({paths: { 'plotly': ['https://cdn.plot.ly/plotly-latest.min']},});if(!window.Plotly) {{require(['plotly'],function(plotly) {window.Plotly=plotly;});}}</script>"
      ]
     },
     "metadata": {},
     "output_type": "display_data"
    }
   ],
   "source": [
    "# taken from internet: Python code for 2D random walk.\n",
    "import numpy\n",
    "import pylab\n",
    "import random\n",
    "import pandas as pd\n",
    "import numpy as np\n",
    "import plotly.graph_objs as go\n",
    "import plotly.offline as offline\n",
    "from plotly.graph_objs import Scatter, Layout\n",
    "from sklearn.cluster import KMeans, AgglomerativeClustering, DBSCAN\n",
    "from sklearn.metrics.pairwise import pairwise_distances\n",
    "from sklearn.datasets.samples_generator import make_blobs\n",
    "from sklearn.preprocessing import StandardScaler\n",
    "from plotly.offline import download_plotlyjs, init_notebook_mode, plot, iplot\n",
    "offline.init_notebook_mode(connected=True)\n",
    "from discreteMarkovChain import markovChain\n",
    "import matplotlib.pyplot as plt"
   ]
  },
  {
   "cell_type": "code",
   "execution_count": 12,
   "metadata": {},
   "outputs": [
    {
     "data": {
      "application/vnd.plotly.v1+json": {
       "data": [
        {
         "marker": {
          "color": "rgba(42, 147, 227, .50)",
          "size": 6
         },
         "mode": "markers",
         "name": "Site",
         "type": "scatter",
         "x": [
          -92.13964278999164,
          -48.95220937963385,
          5.825684307987245,
          -93.6332634830038,
          -100.54527061092192,
          -84.8955361839718,
          -80.22342664095265,
          -29.475139438791985,
          14.33732043324204,
          81.02254573069126,
          98.66255327793976,
          173.09813580098896,
          228.39336794908246,
          138.87024495863545,
          73.3896360882262,
          7.17058323577902,
          13.947176055128635,
          62.68990777394674,
          54.71312062836233,
          38.77094055186416
         ],
         "y": [
          21.834371757676195,
          54.00738460549394,
          6.108533712587416,
          -67.15429086203615,
          -35.10366213389139,
          -79.66552665700435,
          16.5143164466904,
          -76.00989540925282,
          -162.41328677499132,
          -204.0971876368362,
          -167.61685488209375,
          -265.72463237389184,
          -256.466218133034,
          -162.229671110728,
          -261.212327090377,
          -208.477667493203,
          -263.4200688048896,
          -258.560942892304,
          -279.7140835416136,
          -270.0012817811232
         ]
        },
        {
         "marker": {
          "color": "rgba(255, 0, 0, 0.75)",
          "size": 12
         },
         "mode": "markers",
         "name": "Agg Clusters",
         "type": "scatter",
         "x": [
          58.35740287338156,
          -65.50485052741004,
          200.7457518750357
         ],
         "y": [
          -223.77433720081598,
          -19.933596067467093,
          -261.0954252534629
         ]
        }
       ],
       "layout": {
        "title": "Testing Landscape Cluster Coordinates with 3 Clusters"
       }
      },
      "text/html": [
       "<div id=\"4dc70b64-ccf1-4e11-aa8c-4c7614e5701d\" style=\"height: 525px; width: 100%;\" class=\"plotly-graph-div\"></div><script type=\"text/javascript\">require([\"plotly\"], function(Plotly) { window.PLOTLYENV=window.PLOTLYENV || {};window.PLOTLYENV.BASE_URL=\"https://plot.ly\";Plotly.newPlot(\"4dc70b64-ccf1-4e11-aa8c-4c7614e5701d\", [{\"type\": \"scatter\", \"x\": [-92.13964278999164, -48.95220937963385, 5.825684307987245, -93.6332634830038, -100.54527061092192, -84.8955361839718, -80.22342664095265, -29.475139438791985, 14.33732043324204, 81.02254573069126, 98.66255327793976, 173.09813580098896, 228.39336794908246, 138.87024495863545, 73.3896360882262, 7.17058323577902, 13.947176055128635, 62.68990777394674, 54.71312062836233, 38.77094055186416], \"y\": [21.834371757676195, 54.00738460549394, 6.108533712587416, -67.15429086203615, -35.10366213389139, -79.66552665700435, 16.5143164466904, -76.00989540925282, -162.41328677499132, -204.0971876368362, -167.61685488209375, -265.72463237389184, -256.466218133034, -162.229671110728, -261.212327090377, -208.477667493203, -263.4200688048896, -258.560942892304, -279.7140835416136, -270.0012817811232], \"name\": \"Site\", \"mode\": \"markers\", \"marker\": {\"size\": 6, \"color\": \"rgba(42, 147, 227, .50)\"}}, {\"type\": \"scatter\", \"x\": [58.35740287338156, -65.50485052741004, 200.7457518750357], \"y\": [-223.77433720081598, -19.933596067467093, -261.0954252534629], \"name\": \"Agg Clusters\", \"mode\": \"markers\", \"marker\": {\"size\": 12, \"color\": \"rgba(255, 0, 0, 0.75)\"}}], {\"title\": \"Testing Landscape Cluster Coordinates with 3 Clusters\"}, {\"showLink\": true, \"linkText\": \"Export to plot.ly\"})});</script>"
      ],
      "text/vnd.plotly.v1+html": [
       "<div id=\"4dc70b64-ccf1-4e11-aa8c-4c7614e5701d\" style=\"height: 525px; width: 100%;\" class=\"plotly-graph-div\"></div><script type=\"text/javascript\">require([\"plotly\"], function(Plotly) { window.PLOTLYENV=window.PLOTLYENV || {};window.PLOTLYENV.BASE_URL=\"https://plot.ly\";Plotly.newPlot(\"4dc70b64-ccf1-4e11-aa8c-4c7614e5701d\", [{\"type\": \"scatter\", \"x\": [-92.13964278999164, -48.95220937963385, 5.825684307987245, -93.6332634830038, -100.54527061092192, -84.8955361839718, -80.22342664095265, -29.475139438791985, 14.33732043324204, 81.02254573069126, 98.66255327793976, 173.09813580098896, 228.39336794908246, 138.87024495863545, 73.3896360882262, 7.17058323577902, 13.947176055128635, 62.68990777394674, 54.71312062836233, 38.77094055186416], \"y\": [21.834371757676195, 54.00738460549394, 6.108533712587416, -67.15429086203615, -35.10366213389139, -79.66552665700435, 16.5143164466904, -76.00989540925282, -162.41328677499132, -204.0971876368362, -167.61685488209375, -265.72463237389184, -256.466218133034, -162.229671110728, -261.212327090377, -208.477667493203, -263.4200688048896, -258.560942892304, -279.7140835416136, -270.0012817811232], \"name\": \"Site\", \"mode\": \"markers\", \"marker\": {\"size\": 6, \"color\": \"rgba(42, 147, 227, .50)\"}}, {\"type\": \"scatter\", \"x\": [58.35740287338156, -65.50485052741004, 200.7457518750357], \"y\": [-223.77433720081598, -19.933596067467093, -261.0954252534629], \"name\": \"Agg Clusters\", \"mode\": \"markers\", \"marker\": {\"size\": 12, \"color\": \"rgba(255, 0, 0, 0.75)\"}}], {\"title\": \"Testing Landscape Cluster Coordinates with 3 Clusters\"}, {\"showLink\": true, \"linkText\": \"Export to plot.ly\"})});</script>"
      ]
     },
     "metadata": {},
     "output_type": "display_data"
    }
   ],
   "source": [
    "c = \"coordinates.csv\"#\"YorkeysKnobFiltered/YK_Coordinates.csv\"\n",
    "probs = \"nPartiteAdjMatrix.csv\"#\"YorkeysKnobFiltered/YN_Probs.csv\"\n",
    "numClusters = 3\n",
    "field_names = ['X', 'Y', \"w\"]\n",
    "coords = pd.read_csv(c, header=None, names=field_names)\n",
    "coords = coords.loc[:,[\"X\",\"Y\"]]\n",
    "#change indexing of coords to match with transitions (0-19 instead of 1-20)\n",
    "coords.index = np.arange(0, 20)\n",
    "transitions = pd.read_csv(probs, header=None)\n",
    "# Create a trace for building points\n",
    "trace = go.Scatter(\n",
    "    x = coords['X'].as_matrix(),\n",
    "    y = coords['Y'].as_matrix(),\n",
    "    name = 'Site',\n",
    "    mode = 'markers',\n",
    "    marker = dict(\n",
    "        size = 6,\n",
    "        color = 'rgba(42, 147, 227, .50)',\n",
    "    )\n",
    ")\n",
    "agg = AgglomerativeClustering(n_clusters = numClusters).fit(coords.as_matrix())\n",
    "aggPoints = []\n",
    "\n",
    "for x in range(0, numClusters):\n",
    "    aggPoints.append([])\n",
    "\n",
    "for x in range(0, len(coords)):\n",
    "    aggPoints[agg.labels_[x]].append(coords.as_matrix()[x])\n",
    "\n",
    "centersX = []\n",
    "centersY = []\n",
    "\n",
    "clusterLabels = agg.labels_\n",
    "citiesInCluster = [0] * len(clusterLabels)\n",
    "for x in range(0, len(clusterLabels)):\n",
    "    citiesInCluster[clusterLabels[x]] += 1\n",
    "\n",
    "for x in range(0, numClusters):\n",
    "    sumX = 0\n",
    "    sumY = 0\n",
    "    for y in range(0, len(aggPoints[x])):\n",
    "        sumX += aggPoints[x][y][0]\n",
    "        sumY += aggPoints[x][y][1]\n",
    "    centersX.append(sumX / len(aggPoints[x]))\n",
    "    centersY.append(sumY / len(aggPoints[x]))\n",
    "\n",
    "aggCentersTrace = go.Scatter(\n",
    "    x = centersX,\n",
    "    y = centersY,\n",
    "    name = 'Agg Clusters',\n",
    "    mode = 'markers',\n",
    "    marker = dict(\n",
    "        size = 12,\n",
    "        color = 'rgba(255, 0, 0, 0.75)'\n",
    "    )\n",
    ")\n",
    "\n",
    "#Plot result\n",
    "points = [trace]\n",
    "points.append(aggCentersTrace)\n",
    "#Gets name of city from the name of the csv file\n",
    "cityName = \"Testing\"#$c.split(\"/\")[1].split(\"_\")[0]\n",
    "#Plot\n",
    "iplot({\n",
    "        \"data\": points,\n",
    "        'layout': {'title': cityName + ' Landscape Cluster Coordinates with ' + str(numClusters) + ' Clusters'}\n",
    "        },\n",
    "        )\n",
    "\n",
    "d = {\"clusters\":clusterLabels, \"site\":np.arange(0, len(clusterLabels), 1)}\n",
    "\n",
    "coords[\"site\"] = np.arange(0, 20)\n",
    "coords['cluster'] = clusterLabels\n",
    "\n",
    "#sites_w_clusters = pd.DataFrame(data=d).sort_values(\"clusters\")\n",
    "cluster0 = coords.loc[coords['cluster'] == 0]\n",
    "cluster1 = coords.loc[coords['cluster'] == 1]\n",
    "cluster2 = coords.loc[coords['cluster'] == 2]"
   ]
  },
  {
   "cell_type": "code",
   "execution_count": 138,
   "metadata": {},
   "outputs": [
    {
     "data": {
      "image/png": "[encoded data removed]",
      "text/plain": [
       "<matplotlib.figure.Figure at 0x1a20452ac8>"
      ]
     },
     "metadata": {},
     "output_type": "display_data"
    }
   ],
   "source": [
    "# defining the number of steps\n",
    "n = 30\n",
    " \n",
    "#creating two array for containing x and y coordinate\n",
    "#of size equals to the number of size and filled up with 0's\n",
    "x = numpy.zeros(n)\n",
    "y = numpy.zeros(n)\n",
    "cluster = []\n",
    "# Adapted code from: https://www.geeksforgeeks.org/random-walk-implementation-python/\n",
    "\n",
    "#randomly pick starting node\n",
    "val = random.randint(0, 20)\n",
    "#set that as current in x and y\n",
    "x[0] = coords.loc[val, ][0]\n",
    "y[0] = coords.loc[val, ][1]\n",
    "cluster.append(sites_w_clusters.loc[val,][0])\n",
    "for i in range(1, n):\n",
    "    #get list of transitions that you can jump to with transition probs\n",
    "    to_transitions = transitions.loc[val, ]\n",
    "    to_nodes = np.array(to_transitions.index)\n",
    "    #pick next value based on this probability distribution\n",
    "    new_val = np.random.choice(to_nodes, p=list(to_transitions))\n",
    "    x[i] = coords.loc[new_val, ][0]\n",
    "    y[i] = coords.loc[new_val, ][1]\n",
    "    cluster.append(sites_w_clusters.loc[new_val,][0])\n",
    "    val = new_val\n",
    "\n",
    "pylab.title(\"Random Walk ($n = \" + str(n) + \"$ steps)\")\n",
    "colors = ['orange','purple', 'blue']\n",
    "pylab.scatter(np.array(coords[\"X\"]),np.array(coords[\"Y\"]), marker = \"o\", c=coords_w_clusters['clusters'], cmap=matplotlib.colors.ListedColormap(colors))\n",
    "pylab.plot(x, y, color=\"grey\", alpha=0.5)\n",
    "\n",
    "#pylab.savefig(\"rand_walk\"+str(n)+\".png\",bbox_inches=\"tight\",dpi=600)\n",
    "pylab.show()"
   ]
  },
  {
   "cell_type": "code",
   "execution_count": null,
   "metadata": {
    "collapsed": true
   },
   "outputs": [],
   "source": []
  }
 ],
 "metadata": {
  "kernelspec": {
   "display_name": "Python 3",
   "language": "python",
   "name": "python3"
  },
  "language_info": {
   "codemirror_mode": {
    "name": "ipython",
    "version": 3
   },
   "file_extension": ".py",
   "mimetype": "text/x-python",
   "name": "python",
   "nbconvert_exporter": "python",
   "pygments_lexer": "ipython3",
   "version": "3.6.3"
  }
 },
 "nbformat": 4,
 "nbformat_minor": 2
}
