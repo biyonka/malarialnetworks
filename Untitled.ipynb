{
 "cells": [
  {
   "cell_type": "code",
   "execution_count": 1,
   "metadata": {},
   "outputs": [
    {
     "ename": "ImportError",
     "evalue": "dlopen(/Users/anophelesgambiae/Library/Caches/Python-Eggs/python_igraph-0.7.1.post6-py2.7-macosx-10.5-x86_64.egg-tmp/igraph/_igraph.so, 2): Library not loaded: /usr/local/lib/libigraph.0.dylib\n  Referenced from: /Users/anophelesgambiae/Library/Caches/Python-Eggs/python_igraph-0.7.1.post6-py2.7-macosx-10.5-x86_64.egg-tmp/igraph/_igraph.so\n  Reason: image not found",
     "output_type": "error",
     "traceback": [
      "\u001b[0;31m---------------------------------------------------------------------------\u001b[0m",
      "\u001b[0;31mImportError\u001b[0m                               Traceback (most recent call last)",
      "\u001b[0;32m<ipython-input-1-8e950eb5d8d8>\u001b[0m in \u001b[0;36m<module>\u001b[0;34m()\u001b[0m\n\u001b[0;32m----> 1\u001b[0;31m \u001b[0;32mimport\u001b[0m \u001b[0migraph\u001b[0m\u001b[0;34m\u001b[0m\u001b[0m\n\u001b[0m",
      "\u001b[0;32m/Users/anophelesgambiae/anaconda3/envs/MoNeT/lib/python2.7/site-packages/python_igraph-0.7.1.post6-py2.7-macosx-10.5-x86_64.egg/igraph/__init__.py\u001b[0m in \u001b[0;36m<module>\u001b[0;34m()\u001b[0m\n",
      "\u001b[0;32m/Users/anophelesgambiae/anaconda3/envs/MoNeT/lib/python2.7/site-packages/python_igraph-0.7.1.post6-py2.7-macosx-10.5-x86_64.egg/igraph/_igraph.py\u001b[0m in \u001b[0;36m<module>\u001b[0;34m()\u001b[0m\n",
      "\u001b[0;32m/Users/anophelesgambiae/anaconda3/envs/MoNeT/lib/python2.7/site-packages/python_igraph-0.7.1.post6-py2.7-macosx-10.5-x86_64.egg/igraph/_igraph.py\u001b[0m in \u001b[0;36m__bootstrap__\u001b[0;34m()\u001b[0m\n",
      "\u001b[0;31mImportError\u001b[0m: dlopen(/Users/anophelesgambiae/Library/Caches/Python-Eggs/python_igraph-0.7.1.post6-py2.7-macosx-10.5-x86_64.egg-tmp/igraph/_igraph.so, 2): Library not loaded: /usr/local/lib/libigraph.0.dylib\n  Referenced from: /Users/anophelesgambiae/Library/Caches/Python-Eggs/python_igraph-0.7.1.post6-py2.7-macosx-10.5-x86_64.egg-tmp/igraph/_igraph.so\n  Reason: image not found"
     ]
    }
   ],
   "source": [
    "import igraph"
   ]
  },
  {
   "cell_type": "code",
   "execution_count": null,
   "metadata": {
    "collapsed": true
   },
   "outputs": [],
   "source": []
  }
 ],
 "metadata": {
  "kernelspec": {
   "display_name": "Python (MoNeT)",
   "language": "python",
   "name": "monet"
  },
  "language_info": {
   "codemirror_mode": {
    "name": "ipython",
    "version": 2
   },
   "file_extension": ".py",
   "mimetype": "text/x-python",
   "name": "python",
   "nbconvert_exporter": "python",
   "pygments_lexer": "ipython2",
   "version": "2.7.13"
  }
 },
 "nbformat": 4,
 "nbformat_minor": 2
}
