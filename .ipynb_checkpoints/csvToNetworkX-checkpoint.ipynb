{
 "cells": [
  {
   "cell_type": "code",
   "execution_count": 5,
   "metadata": {
    "collapsed": true
   },
   "outputs": [],
   "source": [
    "import pandas as pd\n",
    "import networkx as nx\n",
    "import numpy as np"
   ]
  },
  {
   "cell_type": "code",
   "execution_count": 15,
   "metadata": {
    "collapsed": true
   },
   "outputs": [],
   "source": [
    "G = pd.read_csv('ArtificialLandscapes/data/Maps/R030_P050_C003_D010_CMgM.csv', header=None)\n",
    "\n",
    "npmat = np.matrix(G)\n",
    "G = nx.from_numpy_matrix(npmat, create_using = nx.DiGraph())\n",
    "nx.write_pajek(G, \"ArtificialLandscapes/data/Maps/R030_P050_C003_D010_CMgM.net\")\n",
    "#graph = nx.DiGraph(nx.read_pajek('ArtificialLandscapes/data/G1.net'))"
   ]
  },
  {
   "cell_type": "code",
   "execution_count": null,
   "metadata": {
    "collapsed": true
   },
   "outputs": [],
   "source": []
  }
 ],
 "metadata": {
  "kernelspec": {
   "display_name": "Python 3",
   "language": "python",
   "name": "python3"
  },
  "language_info": {
   "codemirror_mode": {
    "name": "ipython",
    "version": 3
   },
   "file_extension": ".py",
   "mimetype": "text/x-python",
   "name": "python",
   "nbconvert_exporter": "python",
   "pygments_lexer": "ipython3",
   "version": "3.6.3"
  }
 },
 "nbformat": 4,
 "nbformat_minor": 2
}
